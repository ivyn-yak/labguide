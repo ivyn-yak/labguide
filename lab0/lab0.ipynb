{
 "cells": [
  {
   "attachments": {},
   "cell_type": "markdown",
   "metadata": {},
   "source": [
    "# Welcome to Lab0.\n",
    "\n",
    "Lab0 is the first Notebook to teach you how `LabGuide` works. "
   ]
  },
  {
   "cell_type": "markdown",
   "metadata": {},
   "source": [
    "## What is LabGuide? \n",
    "\n",
    "LabGuide is a set of autogradable Jupyter notebooks which has a file extension `ipynb`. Each notebook contains its own python environment which means your required libraries are installed in this environment (or surrounding) that is specific to your project. "
   ]
  },
  {
   "attachments": {},
   "cell_type": "markdown",
   "metadata": {},
   "source": [
    "### Running cells in Jupyter Notebook\n",
    "\n",
    "Each cell can be markdown or code. \n",
    "\n",
    "If it is code, then the cell is runnable by clicking on the run button. \n",
    "\n",
    "If it is markdown, they are not runnable. Markdown is just text. You will usually find instructions or questions in markdown. Sometimes, it will contain evidence or clue to solve your problem. Keep an eye on them! "
   ]
  },
  {
   "attachments": {},
   "cell_type": "markdown",
   "metadata": {},
   "source": [
    "#### Every cells are interconnected.\n",
    "\n",
    "All cells are interconnected. If a variable is available in a cell, then it is also made available on another cell. Same for a function. Same for a class. Be sure to *run the previous cells*. Know when to use `Restart` and when to use `Run All`"
   ]
  },
  {
   "attachments": {},
   "cell_type": "markdown",
   "metadata": {},
   "source": [
    "### Getting Started \n",
    "\n",
    "You always need to start the lab by importing the required libraries. \n",
    "Run the cell below before moving on.\n"
   ]
  },
  {
   "cell_type": "code",
   "execution_count": null,
   "metadata": {
    "tags": [
     "c1"
    ]
   },
   "outputs": [],
   "source": [
    "from learntools.core import binder\n",
    "binder.bind(globals())\n",
    "from suss.lab0.lab0 import *\n",
    "print(\"Lab 0 setup complete!\")\n"
   ]
  },
  {
   "attachments": {},
   "cell_type": "markdown",
   "metadata": {},
   "source": [
    "# How to pass each `.check()` for each question? \n",
    "\n",
    "If the question states that you need to display the text, LabGuide will check your print statement. Thus, you need to provide the exact statement to pass the test. \n",
    "\n",
    "If the question states that you need to return a certain value, LabGuide will check your return value and its datatype. \n",
    "\n",
    "Each question is tested against one or many test values. \n",
    "\n",
    "#### Important tips!\n",
    "\n",
    "- Before running `.check()`, run your code cell and save your file.\n",
    "- Do NOT add or remove any cells in the LabGuide.\n",
    "\n",
    "## Example 1\n",
    "\n",
    "Create a `test` variable to store the value `hello`. Print `test` to display the output."
   ]
  },
  {
   "cell_type": "code",
   "execution_count": null,
   "metadata": {},
   "outputs": [],
   "source": [
    "# write your answer here\n",
    "test = \"hello\"\n",
    "pass"
   ]
  },
  {
   "cell_type": "markdown",
   "metadata": {},
   "source": [
    "Try checking the answer for Example 1 below."
   ]
  },
  {
   "cell_type": "code",
   "execution_count": null,
   "metadata": {},
   "outputs": [],
   "source": [
    "# Uncomment the next line and run this cell to check your answer\n",
    "q1.check()"
   ]
  },
  {
   "cell_type": "markdown",
   "metadata": {},
   "source": [
    "# How to use `.hint()` and `.solution()`?\n",
    "\n",
    "`.hint()` will show you steps to write your answer.\n",
    "\n",
    "`.solution()` will show you the instructor's solution to the question. Actual solution will display after you get your `.check()` correct or after attempting the question a few times and running `.check()`.\n",
    "\n",
    "Try viewing the hint and solution to Example 1 below."
   ]
  },
  {
   "cell_type": "code",
   "execution_count": null,
   "metadata": {},
   "outputs": [],
   "source": [
    "# Uncomment the line below and run the cell for a hint\n",
    "q1.hint()\n",
    "\n",
    "# Or uncomment the line below to peek at the solution.\n",
    "q1.solution()"
   ]
  },
  {
   "attachments": {},
   "cell_type": "markdown",
   "metadata": {},
   "source": [
    "## Example 2\n",
    "\n",
    "Let's try `.check()`, `.hint()`, `.solution()` in this example as a whole question.\n",
    "\n",
    "Question:\n",
    "\n",
    "Create a function `question2()` to add \"hello\" to any value you input and return the value."
   ]
  },
  {
   "cell_type": "code",
   "execution_count": null,
   "metadata": {},
   "outputs": [],
   "source": [
    "def question2():\n",
    "    #write your answer below\n",
    "\n",
    "    name = input(\"What is your name: \")\n",
    "    hello_name = \"Hello \" + name\n",
    "    \n",
    "    return hello_name\n",
    "\n",
    "    pass\n",
    "\n",
    "question2()"
   ]
  },
  {
   "cell_type": "code",
   "execution_count": null,
   "metadata": {},
   "outputs": [],
   "source": [
    "# Uncomment the next line and run this cell to check your answer\n",
    "q2.check()"
   ]
  },
  {
   "cell_type": "code",
   "execution_count": null,
   "metadata": {},
   "outputs": [],
   "source": [
    "# Uncomment the line below and run the cell for a hint\n",
    "q2.hint()\n",
    "\n",
    "# Or uncomment the line below to peek at the solution.\n",
    "q2.solution()"
   ]
  },
  {
   "attachments": {},
   "cell_type": "markdown",
   "metadata": {},
   "source": [
    "### Where to write your answers?\n",
    "\n",
    "All LabGuides will have a clear indicator on where to write your answer. Such as after the comment `Write your answer below` or under the comment `Solutions: Part (a)`."
   ]
  },
  {
   "attachments": {},
   "cell_type": "markdown",
   "metadata": {},
   "source": [
    "### Unit testing and integration testing\n",
    "\n",
    "Each question is equipped with unit testing. \n",
    "\n",
    "Unit testing is done at `check()`. Each check will run through a set of test values. Your job is to match the test value with your return value. \n",
    "\n",
    "> If you are not getting the correct value, then you are probably `returning` any value.\n",
    "\n",
    "#### What about Integration testing? \n",
    "\n",
    "It is just a combination of unit testing in a sequencial order. It is done via `check_all()`. Integration tests are only available on `Step-by-Step` questions"
   ]
  },
  {
   "attachments": {},
   "cell_type": "markdown",
   "metadata": {},
   "source": [
    "---\n",
    "\n",
    "Got stuck? Have questions or need clarification? Email your instructor at ___@suss.edu.sg\n",
    "\n",
    "For technical support, email to vlisupport@suss.edu.sg"
   ]
  }
 ],
 "metadata": {
  "celltoolbar": "Tags",
  "kernelspec": {
   "display_name": "venv",
   "language": "python",
   "name": "python3"
  },
  "language_info": {
   "codemirror_mode": {
    "name": "ipython",
    "version": 3
   },
   "file_extension": ".py",
   "mimetype": "text/x-python",
   "name": "python",
   "nbconvert_exporter": "python",
   "pygments_lexer": "ipython3",
   "version": "3.10.14"
  },
  "vscode": {
   "interpreter": {
    "hash": "3e252f5fffb9fd8279d22f432b603532e75429e9f2139472a319d469c5920173"
   }
  }
 },
 "nbformat": 4,
 "nbformat_minor": 4
}
